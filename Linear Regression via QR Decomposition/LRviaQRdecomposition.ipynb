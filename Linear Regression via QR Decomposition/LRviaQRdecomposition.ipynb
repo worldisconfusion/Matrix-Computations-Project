{
  "cells": [
    {
      "cell_type": "code",
      "execution_count": null,
      "metadata": {
        "id": "b6Y8qruHpYP7"
      },
      "outputs": [],
      "source": [
        "# Import Statements\n",
        "import numpy as np\n",
        "import csv\n",
        "import matplotlib.pyplot as plt\n",
        "import warnings\n",
        "from sklearn.preprocessing import StandardScaler"
      ]
    },
    {
      "cell_type": "markdown",
      "metadata": {
        "id": "Xn3lQCkppYP7"
      },
      "source": [
        "### Import and setup data"
      ]
    },
    {
      "cell_type": "code",
      "execution_count": null,
      "metadata": {
        "colab": {
          "base_uri": "https://localhost:8080/"
        },
        "id": "Daig80pUpYP8",
        "outputId": "50dcf318-29e4-4f91-8748-6286f1a78e60"
      },
      "outputs": [
        {
          "output_type": "stream",
          "name": "stdout",
          "text": [
            "Number of attributes: 30\n",
            "Number of points: 39644\n"
          ]
        }
      ],
      "source": [
        "data_orig = np.genfromtxt('OnlineNewsPopularity.csv', delimiter=',')\n",
        "\n",
        "data = np.concatenate((data_orig[1:,2:4], data_orig[1:, 7:13], data_orig[1:, 39:61]), axis=1)\n",
        "\n",
        "num_points = data.shape[0]\n",
        "num_attributes = data.shape[1]\n",
        "print(\"Number of attributes:\", num_attributes)\n",
        "print(\"Number of points:\", num_points)\n",
        "\n",
        "# Read in the titles\n",
        "file = open('OnlineNewsPopularity.csv')\n",
        "csvreader = csv.reader(file)\n",
        "header = []\n",
        "header = next(csvreader)\n",
        "header = header[2:13] + header[39:]"
      ]
    },
    {
      "cell_type": "markdown",
      "metadata": {
        "id": "dkXCDEidpYP8"
      },
      "source": [
        "### Data Preprocessing"
      ]
    },
    {
      "cell_type": "code",
      "execution_count": null,
      "metadata": {
        "colab": {
          "base_uri": "https://localhost:8080/"
        },
        "id": "JOPsktrlpYP8",
        "outputId": "9051b70c-aba4-47e4-8b85-bc5c36813639"
      },
      "outputs": [
        {
          "output_type": "stream",
          "name": "stdout",
          "text": [
            "Training shape: (31715, 30)\n",
            "Validation shape: (3964, 30)\n",
            "Test shape: (3965, 30)\n"
          ]
        }
      ],
      "source": [
        "np.random.seed(42)\n",
        "np.random.shuffle(data)\n",
        "np.random.shuffle(data)\n",
        "num_training, num_validation = 31715, 3964+31715\n",
        "\n",
        "\n",
        "training = data[:num_training, :]\n",
        "validation = data[num_training:num_validation, :]\n",
        "test = data[num_validation:, :]\n",
        "training_target, validation_target, test_target = training[:, -1], validation[:, -1], test[:, -1]\n",
        "\n",
        "scaler = StandardScaler(with_mean=True, with_std=True)\n",
        "scaler.fit(training[:,:-1])\n",
        "training = np.concatenate((np.ones((num_training,1), dtype=float),scaler.transform(training[:,:-1])), axis=1)\n",
        "\n",
        "validation = np.concatenate((np.ones((num_validation-num_training,1), dtype=float), scaler.transform(validation[:,:-1])), axis=1)\n",
        "test = np.concatenate((np.ones((num_points-num_validation,1), dtype=float), scaler.transform(test[:,:-1])), axis=1)\n",
        "\n",
        "print(\"Training shape:\", training.shape)\n",
        "print(\"Validation shape:\", validation.shape)\n",
        "print(\"Test shape:\", test.shape)\n"
      ]
    },
    {
      "cell_type": "markdown",
      "metadata": {
        "id": "JUekoMY2pYP9"
      },
      "source": [
        "### Linear Regression via QR Decomposition"
      ]
    },
    {
      "cell_type": "code",
      "execution_count": null,
      "metadata": {
        "id": "nD0LcpVZpYP9"
      },
      "outputs": [],
      "source": [
        "def QR_Factorization(data):\n",
        "    Q = np.ones(data.shape, dtype=float)\n",
        "    R = np.zeros((data.shape[1], data.shape[1]), dtype=float)\n",
        "    R[0,0] = 1\n",
        "\n",
        "    for i in range(1, Q.shape[1]):\n",
        "        Q[:, i] = data[:, i]\n",
        "        R[i, i] = 1\n",
        "        for j in range(i):\n",
        "            pji = np.dot(data[:,i].T, Q[:,j])/np.dot(Q[:,j].T, Q[:,j])\n",
        "            R[j, i] = pji\n",
        "            Q[:,i] -= np.dot(pji, Q[:,j])\n",
        "\n",
        "    return Q, R\n"
      ]
    },
    {
      "cell_type": "code",
      "execution_count": null,
      "metadata": {
        "id": "4pvmPm33pYP9"
      },
      "outputs": [],
      "source": [
        "def back_sub(R, ortho_q_y):\n",
        "    w = np.zeros((R.shape[0],))\n",
        "\n",
        "    for i in range(R.shape[0]-1, -1, -1):\n",
        "        w[i] = ortho_q_y[i]\n",
        "\n",
        "        for j in range(i+1, R.shape[0]):\n",
        "            w[i] -= w[j]*R[i,j]\n",
        "\n",
        "\n",
        "    return w"
      ]
    },
    {
      "cell_type": "code",
      "execution_count": null,
      "metadata": {
        "id": "7W9WkUXUpYP9"
      },
      "outputs": [],
      "source": [
        "def multiple_regression(training, Y):\n",
        "    Q, R = QR_Factorization(training)\n",
        "\n",
        "    ortho = np.matmul(Q.T, Q)\n",
        "    ortho = 1/ortho\n",
        "    ortho = np.where(ortho < 1e10, ortho, 0)\n",
        "    ortho = np.where(ortho > -1e10, ortho, 0)\n",
        "\n",
        "    ortho_q_y = np.matmul(np.matmul(ortho, Q.T), Y)\n",
        "\n",
        "    w = back_sub(R, ortho_q_y)\n",
        "\n",
        "    return w\n",
        "\n",
        "\n",
        "\n"
      ]
    },
    {
      "cell_type": "code",
      "execution_count": null,
      "metadata": {
        "id": "ilUTnmf7pYP-"
      },
      "outputs": [],
      "source": [
        "def find_results(w, test, Y):\n",
        "    Y_hat = np.matmul(test, w)\n",
        "\n",
        "    epsilon = Y-Y_hat\n",
        "    SSE = np.dot(epsilon.T, epsilon)\n",
        "    TSS = np.sum((Y-np.mean(Y))**2)\n",
        "\n",
        "    R2 = (TSS-SSE)/TSS\n",
        "\n",
        "    return SSE, TSS, R2\n",
        "\n",
        "\n"
      ]
    },
    {
      "cell_type": "code",
      "execution_count": null,
      "metadata": {
        "colab": {
          "base_uri": "https://localhost:8080/"
        },
        "id": "hRBOgh4BpYP-",
        "outputId": "075c65c2-53ba-4c6e-9634-2385d55496b6"
      },
      "outputs": [
        {
          "output_type": "stream",
          "name": "stdout",
          "text": [
            "SSE is: 342677374158.57104\n",
            "TSS is: 350624971631.2273\n",
            "R-squared is: 0.02266694649751074\n"
          ]
        }
      ],
      "source": [
        "w = multiple_regression(training, training_target)\n",
        "\n",
        "SSE, TSS, R2 = find_results(w, test, test_target)\n",
        "\n",
        "print(\"SSE is:\", SSE)\n",
        "print(\"TSS is:\", TSS)\n",
        "print(\"R-squared is:\", R2)\n",
        "\n"
      ]
    }
  ],
  "metadata": {
    "kernelspec": {
      "display_name": "Python 3.8.10 64-bit (microsoft store)",
      "language": "python",
      "name": "python3"
    },
    "language_info": {
      "codemirror_mode": {
        "name": "ipython",
        "version": 3
      },
      "file_extension": ".py",
      "mimetype": "text/x-python",
      "name": "python",
      "nbconvert_exporter": "python",
      "pygments_lexer": "ipython3",
      "version": "3.8.10"
    },
    "orig_nbformat": 4,
    "vscode": {
      "interpreter": {
        "hash": "99ef57a3e309b3ccef27bfdc21155d00f14e44d33227cb907457916f15963b11"
      }
    },
    "colab": {
      "provenance": []
    }
  },
  "nbformat": 4,
  "nbformat_minor": 0
}